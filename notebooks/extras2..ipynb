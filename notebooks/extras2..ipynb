{
 "cells": [
  {
   "cell_type": "code",
   "execution_count": 1,
   "id": "843c4fcb",
   "metadata": {},
   "outputs": [
    {
     "name": "stdout",
     "output_type": "stream",
     "text": [
      "d:\\My Projects\\Toxic Tagger\n"
     ]
    }
   ],
   "source": [
    "%cd .."
   ]
  },
  {
   "cell_type": "code",
   "execution_count": null,
   "id": "55315590",
   "metadata": {},
   "outputs": [],
   "source": [
    "import pandas as pd\n",
    "df = pd.read_feather(\"artifacts/feature_engineering/test_data.feather\")"
   ]
  },
  {
   "cell_type": "code",
   "execution_count": 5,
   "id": "5ea6ea96",
   "metadata": {},
   "outputs": [],
   "source": [
    "X = df.drop(columns='Label')\n",
    "y = df['Label'].values"
   ]
  },
  {
   "cell_type": "code",
   "execution_count": 2,
   "id": "4c127ef0",
   "metadata": {},
   "outputs": [],
   "source": [
    "import joblib\n",
    "with open(\"models/XGB-v2.joblib\", 'rb') as f:\n",
    "    model = joblib.load(f)"
   ]
  },
  {
   "cell_type": "code",
   "execution_count": 7,
   "id": "bdd94888",
   "metadata": {},
   "outputs": [],
   "source": [
    "y_pred = model.predict(X)"
   ]
  },
  {
   "cell_type": "code",
   "execution_count": 8,
   "id": "d8dae294",
   "metadata": {},
   "outputs": [],
   "source": [
    "from sklearn.metrics import accuracy_score\n",
    "\n",
    "acc = accuracy_score(y, y_pred)"
   ]
  },
  {
   "cell_type": "code",
   "execution_count": 9,
   "metadata": {},
   "outputs": [
    {
     "data": {
      "text/plain": [
       "0.8199583333333333"
      ]
     },
     "execution_count": 9,
     "metadata": {},
     "output_type": "execute_result"
    }
   ],
   "source": [
    "acc"
   ]
  },
  {
   "cell_type": "code",
   "execution_count": null,
   "id": "f15b58ad",
   "metadata": {},
   "outputs": [
    {
     "data": {
      "text/plain": [
       "'TfidfVectorizer'"
      ]
     },
     "execution_count": 12,
     "metadata": {},
     "output_type": "execute_result"
    }
   ],
   "source": [
    "type(model.vectorizer).__name__"
   ]
  },
  {
   "cell_type": "code",
   "execution_count": 14,
   "id": "079c04b9",
   "metadata": {},
   "outputs": [],
   "source": [
    "model_metadata = model.metadata"
   ]
  },
  {
   "cell_type": "code",
   "execution_count": 16,
   "id": "888897d2",
   "metadata": {},
   "outputs": [
    {
     "data": {
      "text/plain": [
       "{'python_function': {'artifacts': {'classifier': {'path': 'artifacts\\\\XGB-v1.joblib',\n",
       "    'uri': 'models\\\\XGB-v1.joblib'},\n",
       "   'vectorizer': {'path': 'artifacts\\\\TfidfVectorizer.joblib',\n",
       "    'uri': 'models\\\\TfidfVectorizer.joblib'}},\n",
       "  'cloudpickle_version': '3.1.1',\n",
       "  'code': None,\n",
       "  'env': {'conda': 'conda.yaml', 'virtualenv': 'python_env.yaml'},\n",
       "  'loader_module': 'mlflow.pyfunc.model',\n",
       "  'python_model': 'python_model.pkl',\n",
       "  'python_version': '3.11.5',\n",
       "  'streamable': False}}"
      ]
     },
     "execution_count": 16,
     "metadata": {},
     "output_type": "execute_result"
    }
   ],
   "source": [
    "model_metadata.flavors"
   ]
  },
  {
   "cell_type": "code",
   "execution_count": null,
   "id": "141c0eaf",
   "metadata": {},
   "outputs": [],
   "source": [
    "text = [\"he is very foolish and naughty\"]\n",
    "df = pd.DataFrame({\n",
    "    \"texts\" : text\n",
    "})"
   ]
  },
  {
   "cell_type": "code",
   "execution_count": 20,
   "id": "08bf93cc",
   "metadata": {},
   "outputs": [],
   "source": [
    "response = model.predict(df)"
   ]
  },
  {
   "cell_type": "code",
   "execution_count": 39,
   "id": "f45c87f0",
   "metadata": {},
   "outputs": [
    {
     "data": {
      "text/plain": [
       "array([[0.34676784, 0.65323216]], dtype=float32)"
      ]
     },
     "execution_count": 39,
     "metadata": {},
     "output_type": "execute_result"
    }
   ],
   "source": [
    "response['class_probalility_scores']"
   ]
  },
  {
   "cell_type": "markdown",
   "id": "3812537f",
   "metadata": {},
   "source": [
    "### LIME TESTING"
   ]
  },
  {
   "cell_type": "code",
   "execution_count": 2,
   "id": "03f78f49",
   "metadata": {},
   "outputs": [
    {
     "name": "stdout",
     "output_type": "stream",
     "text": [
      "d:\\My Projects\\Toxic Tagger\n"
     ]
    }
   ],
   "source": [
    "%cd .."
   ]
  },
  {
   "cell_type": "code",
   "execution_count": null,
   "id": "cbb581b3",
   "metadata": {},
   "outputs": [],
   "source": [
    "import joblib\n",
    "with open(\"hf_serve_api/model/python_model.pkl\", \"rb\") as f:\n",
    "    model = joblib.load(f)"
   ]
  },
  {
   "cell_type": "code",
   "execution_count": null,
   "id": "d00f71fb",
   "metadata": {},
   "outputs": [],
   "source": [
    "import pandas as pd\n",
    "\n",
    "tweet = \"such a nonsense idiot guy\"\n",
    "df = pd.DataFrame({\n",
    "    \"comments\": [tweet]\n",
    "})\n",
    "df"
   ]
  },
  {
   "cell_type": "code",
   "execution_count": 9,
   "id": "b580db2f",
   "metadata": {},
   "outputs": [],
   "source": [
    "result = model.predict(context=None, model_input=df)"
   ]
  },
  {
   "cell_type": "code",
   "execution_count": 56,
   "id": "b9caa970",
   "metadata": {},
   "outputs": [],
   "source": [
    "import numpy as np\n",
    "predict_proba = np.array(result[\"class_probability_scores\"])"
   ]
  },
  {
   "cell_type": "code",
   "execution_count": 57,
   "id": "aa2ab8df",
   "metadata": {},
   "outputs": [
    {
     "data": {
      "text/plain": [
       "array([[0.00182056, 0.99817944]], dtype=float32)"
      ]
     },
     "execution_count": 57,
     "metadata": {},
     "output_type": "execute_result"
    }
   ],
   "source": [
    "predict_proba"
   ]
  },
  {
   "cell_type": "code",
   "execution_count": 33,
   "id": "1c9a3109",
   "metadata": {},
   "outputs": [
    {
     "data": {
      "text/plain": [
       "array([[0.00182056, 0.99817944]], dtype=float32)"
      ]
     },
     "execution_count": 33,
     "metadata": {},
     "output_type": "execute_result"
    }
   ],
   "source": [
    "model.predict(context=None, model_input=df)[\"class_probability_scores\"]"
   ]
  },
  {
   "cell_type": "code",
   "execution_count": 36,
   "id": "9b3390ad",
   "metadata": {},
   "outputs": [],
   "source": [
    "import numpy as np\n",
    "def lime_prediction(df_input):\n",
    "    # Convert list of strings into the format your model expects\n",
    "    result = model.predict(context=None, model_input=df_input)\n",
    "    return np.array(result[\"class_probability_scores\"])"
   ]
  },
  {
   "cell_type": "code",
   "execution_count": 45,
   "id": "60e8dda3",
   "metadata": {},
   "outputs": [],
   "source": [
    "from lime.lime_text import LimeTextExplainer\n",
    "\n",
    "class_names = [\"non-hate\", \"hate\"]\n",
    "explainer = LimeTextExplainer(class_names=class_names)"
   ]
  },
  {
   "cell_type": "code",
   "execution_count": 59,
   "id": "660b7bfd",
   "metadata": {},
   "outputs": [
    {
     "name": "stdout",
     "output_type": "stream",
     "text": [
      "{'class_probability_scores': array([[0.00182056, 0.99817944],\n",
      "       [0.00344598, 0.996554  ],\n",
      "       [0.00306714, 0.99693286],\n",
      "       ...,\n",
      "       [0.01244748, 0.9875525 ],\n",
      "       [0.42760205, 0.57239795],\n",
      "       [0.00182056, 0.99817944]], shape=(5000, 2), dtype=float32), 'class_label': array([1, 1, 1, ..., 1, 1, 1], shape=(5000,))}\n",
      "[[0.00182056 0.99817944]\n",
      " [0.00344598 0.996554  ]\n",
      " [0.00306714 0.99693286]\n",
      " ...\n",
      " [0.01244748 0.9875525 ]\n",
      " [0.42760205 0.57239795]\n",
      " [0.00182056 0.99817944]]\n"
     ]
    }
   ],
   "source": [
    "import numpy as np\n",
    "from lime.lime_text import LimeTextExplainer\n",
    "\n",
    "def lime_prediction(tweet):\n",
    "    df = pd.DataFrame({\n",
    "        \"comments\": tweet\n",
    "    })\n",
    "    # Convert list of strings into the format your model expects\n",
    "    result = model.predict(context=None, model_input=df)\n",
    "    print(result)\n",
    "    print(np.array(result[\"class_probability_scores\"]))\n",
    "    return np.array(result[\"class_probability_scores\"])\n",
    "\n",
    "\n",
    "class_names = [\"hate\", \"non-hate\"]\n",
    "explainer = LimeTextExplainer(class_names=class_names)\n",
    "\n",
    "explanations = explainer.explain_instance(\n",
    "    tweet,\n",
    "    lime_prediction,\n",
    "    num_features=10\n",
    ")"
   ]
  },
  {
   "cell_type": "code",
   "execution_count": 70,
   "id": "09486fe3",
   "metadata": {},
   "outputs": [
    {
     "data": {
      "text/plain": [
       "{1: [(np.int64(13), np.float64(0.06613134889701434)),\n",
       "  (np.int64(6), np.float64(0.05296108530504983)),\n",
       "  (np.int64(9), np.float64(0.043568602404138464)),\n",
       "  (np.int64(11), np.float64(0.033354653996722654)),\n",
       "  (np.int64(4), np.float64(0.02935147279088205)),\n",
       "  (np.int64(0), np.float64(-0.015208785072103524)),\n",
       "  (np.int64(12), np.float64(0.006571592279595673)),\n",
       "  (np.int64(10), np.float64(0.0025577864164130653)),\n",
       "  (np.int64(5), np.float64(0.0012609913039638369)),\n",
       "  (np.int64(2), np.float64(-0.0009063366892856964))]}"
      ]
     },
     "execution_count": 70,
     "metadata": {},
     "output_type": "execute_result"
    }
   ],
   "source": [
    "explanations.as_map()"
   ]
  },
  {
   "cell_type": "code",
   "execution_count": null,
   "id": "a0e194d1",
   "metadata": {},
   "outputs": [],
   "source": [
    "explanations.save_to_file(\"lime.html\")"
   ]
  },
  {
   "cell_type": "code",
   "execution_count": 6,
   "id": "25329708",
   "metadata": {},
   "outputs": [],
   "source": [
    "import pandas as pd"
   ]
  },
  {
   "cell_type": "code",
   "execution_count": 8,
   "id": "22719ca8",
   "metadata": {},
   "outputs": [],
   "source": [
    "input = [\"hi man\"]\n",
    "\n",
    "df = pd.DataFrame(input, columns=[\"comments\"])"
   ]
  },
  {
   "cell_type": "code",
   "execution_count": 75,
   "id": "333edc0e",
   "metadata": {},
   "outputs": [
    {
     "data": {
      "text/plain": [
       "{'class_probability_scores': array([[0.00182056, 0.99817944]], dtype=float32),\n",
       " 'class_label': array([1])}"
      ]
     },
     "execution_count": 75,
     "metadata": {},
     "output_type": "execute_result"
    }
   ],
   "source": [
    "result"
   ]
  },
  {
   "cell_type": "code",
   "execution_count": 94,
   "id": "f296a991",
   "metadata": {},
   "outputs": [],
   "source": [
    "def round_dict_values(dic):\n",
    "        return {str(k): round(v, 4) for k, v in dic.items()}\n",
    "\n",
    "class LimeExplainer:\n",
    "    def __init__(self):\n",
    "        class_names = [\"hate\", \"non-hate\"]\n",
    "        self.explainer = LimeTextExplainer(class_names=class_names)\n",
    "        self.response = None\n",
    "\n",
    "    def get_explaination(self, tweet):\n",
    "        df = pd.DataFrame({\n",
    "            \"comments\": tweet\n",
    "        })\n",
    "        self.response = model.predict(context=None, model_input=df)\n",
    "\n",
    "        return np.array(self.response[\"class_probability_scores\"])\n",
    "        \n",
    "    \n",
    "    def explain(self, tweet):\n",
    "        explanations = self.explainer.explain_instance(\n",
    "            tweet,\n",
    "            self.get_explaination,\n",
    "            num_features=10\n",
    "        )\n",
    "        return round_dict_values(dic=dict(explanations.as_list()))"
   ]
  },
  {
   "cell_type": "code",
   "execution_count": null,
   "id": "5bf7d8e6",
   "metadata": {},
   "outputs": [],
   "source": [
    "explainer = LimeExplainer()\n",
    "explainer.explain(tweet=tweet1)"
   ]
  },
  {
   "cell_type": "code",
   "execution_count": 118,
   "id": "799dd84e",
   "metadata": {},
   "outputs": [
    {
     "data": {
      "text/plain": [
       "{'class_probability_scores': array([[0.36894268, 0.6310573 ],\n",
       "        [0.39465338, 0.6053466 ],\n",
       "        [0.36894268, 0.6310573 ],\n",
       "        ...,\n",
       "        [0.4864686 , 0.5135314 ],\n",
       "        [0.36168152, 0.6383185 ],\n",
       "        [0.39465338, 0.6053466 ]], shape=(5000, 2), dtype=float32),\n",
       " 'class_label': array([1, 1, 1, ..., 1, 1, 1], shape=(5000,))}"
      ]
     },
     "execution_count": 118,
     "metadata": {},
     "output_type": "execute_result"
    }
   ],
   "source": [
    "explainer.response"
   ]
  },
  {
   "cell_type": "code",
   "execution_count": null,
   "id": "7265b646",
   "metadata": {},
   "outputs": [],
   "source": [
    "tweet1= \"i hate that movie\"\n",
    "df_test = pd.DataFrame({\n",
    "    \"comments\": [tweet1]\n",
    "})"
   ]
  },
  {
   "cell_type": "code",
   "execution_count": 116,
   "id": "f47de46a",
   "metadata": {},
   "outputs": [
    {
     "data": {
      "text/plain": [
       "{'class_probability_scores': array([[0.36894268, 0.6310573 ]], dtype=float32),\n",
       " 'class_label': array([1])}"
      ]
     },
     "execution_count": 116,
     "metadata": {},
     "output_type": "execute_result"
    }
   ],
   "source": [
    "model.predict(context=None, model_input=df_test)"
   ]
  },
  {
   "cell_type": "markdown",
   "id": "00647884",
   "metadata": {},
   "source": [
    "### Checking for Data Drift"
   ]
  },
  {
   "cell_type": "code",
   "execution_count": 1,
   "id": "57dac222",
   "metadata": {},
   "outputs": [],
   "source": [
    "import pandas as pd\n",
    "import numpy as np\n",
    "from sklearn.model_selection import train_test_split\n",
    "from evidently import Dataset, DataDefinition\n",
    "from evidently import Report\n",
    "from evidently.presets import DataDriftPreset"
   ]
  },
  {
   "cell_type": "code",
   "execution_count": 2,
   "id": "f5ab3bda",
   "metadata": {},
   "outputs": [],
   "source": [
    "df = pd.read_csv(\"artifacts/final_data.csv\")"
   ]
  },
  {
   "cell_type": "code",
   "execution_count": 3,
   "id": "19a1ea4d",
   "metadata": {},
   "outputs": [],
   "source": [
    "df[\"num_characters\"] = df[\"Content\"].apply(lambda x: len(x.replace(\" \", \"\")))"
   ]
  },
  {
   "cell_type": "code",
   "execution_count": 4,
   "id": "42e8429c",
   "metadata": {},
   "outputs": [
    {
     "data": {
      "text/html": [
       "<div>\n",
       "<style scoped>\n",
       "    .dataframe tbody tr th:only-of-type {\n",
       "        vertical-align: middle;\n",
       "    }\n",
       "\n",
       "    .dataframe tbody tr th {\n",
       "        vertical-align: top;\n",
       "    }\n",
       "\n",
       "    .dataframe thead th {\n",
       "        text-align: right;\n",
       "    }\n",
       "</style>\n",
       "<table border=\"1\" class=\"dataframe\">\n",
       "  <thead>\n",
       "    <tr style=\"text-align: right;\">\n",
       "      <th></th>\n",
       "      <th>Content</th>\n",
       "      <th>Label</th>\n",
       "      <th>num_words</th>\n",
       "      <th>num_characters</th>\n",
       "    </tr>\n",
       "  </thead>\n",
       "  <tbody>\n",
       "    <tr>\n",
       "      <th>0</th>\n",
       "      <td>retweet to the rejects who constantly call my ...</td>\n",
       "      <td>1</td>\n",
       "      <td>24</td>\n",
       "      <td>99</td>\n",
       "    </tr>\n",
       "    <tr>\n",
       "      <th>1</th>\n",
       "      <td>i purpose that whatever attack everyone who ca...</td>\n",
       "      <td>1</td>\n",
       "      <td>16</td>\n",
       "      <td>88</td>\n",
       "    </tr>\n",
       "    <tr>\n",
       "      <th>2</th>\n",
       "      <td>are you fucking kidding me you deserve to fuck...</td>\n",
       "      <td>1</td>\n",
       "      <td>10</td>\n",
       "      <td>44</td>\n",
       "    </tr>\n",
       "    <tr>\n",
       "      <th>3</th>\n",
       "      <td>retweet i am not racist and i am not sexist i ...</td>\n",
       "      <td>1</td>\n",
       "      <td>17</td>\n",
       "      <td>62</td>\n",
       "    </tr>\n",
       "    <tr>\n",
       "      <th>4</th>\n",
       "      <td>just imagine if the two million spent on the s...</td>\n",
       "      <td>1</td>\n",
       "      <td>18</td>\n",
       "      <td>88</td>\n",
       "    </tr>\n",
       "  </tbody>\n",
       "</table>\n",
       "</div>"
      ],
      "text/plain": [
       "                                             Content  Label  num_words  \\\n",
       "0  retweet to the rejects who constantly call my ...      1         24   \n",
       "1  i purpose that whatever attack everyone who ca...      1         16   \n",
       "2  are you fucking kidding me you deserve to fuck...      1         10   \n",
       "3  retweet i am not racist and i am not sexist i ...      1         17   \n",
       "4  just imagine if the two million spent on the s...      1         18   \n",
       "\n",
       "   num_characters  \n",
       "0              99  \n",
       "1              88  \n",
       "2              44  \n",
       "3              62  \n",
       "4              88  "
      ]
     },
     "execution_count": 4,
     "metadata": {},
     "output_type": "execute_result"
    }
   ],
   "source": [
    "df.head()"
   ]
  },
  {
   "cell_type": "code",
   "execution_count": 5,
   "id": "7cce598f",
   "metadata": {},
   "outputs": [],
   "source": [
    "df['avg_word_len'] = round(df[\"num_characters\"]/df[\"num_words\"], 4)"
   ]
  },
  {
   "cell_type": "code",
   "execution_count": 8,
   "id": "d5268da9",
   "metadata": {},
   "outputs": [
    {
     "data": {
      "text/html": [
       "<div>\n",
       "<style scoped>\n",
       "    .dataframe tbody tr th:only-of-type {\n",
       "        vertical-align: middle;\n",
       "    }\n",
       "\n",
       "    .dataframe tbody tr th {\n",
       "        vertical-align: top;\n",
       "    }\n",
       "\n",
       "    .dataframe thead th {\n",
       "        text-align: right;\n",
       "    }\n",
       "</style>\n",
       "<table border=\"1\" class=\"dataframe\">\n",
       "  <thead>\n",
       "    <tr style=\"text-align: right;\">\n",
       "      <th></th>\n",
       "      <th>Content</th>\n",
       "      <th>Label</th>\n",
       "      <th>num_words</th>\n",
       "      <th>num_characters</th>\n",
       "      <th>avg_word_len</th>\n",
       "    </tr>\n",
       "  </thead>\n",
       "  <tbody>\n",
       "    <tr>\n",
       "      <th>0</th>\n",
       "      <td>retweet to the rejects who constantly call my ...</td>\n",
       "      <td>1</td>\n",
       "      <td>24</td>\n",
       "      <td>99</td>\n",
       "      <td>4.1250</td>\n",
       "    </tr>\n",
       "    <tr>\n",
       "      <th>1</th>\n",
       "      <td>i purpose that whatever attack everyone who ca...</td>\n",
       "      <td>1</td>\n",
       "      <td>16</td>\n",
       "      <td>88</td>\n",
       "      <td>5.5000</td>\n",
       "    </tr>\n",
       "    <tr>\n",
       "      <th>2</th>\n",
       "      <td>are you fucking kidding me you deserve to fuck...</td>\n",
       "      <td>1</td>\n",
       "      <td>10</td>\n",
       "      <td>44</td>\n",
       "      <td>4.4000</td>\n",
       "    </tr>\n",
       "    <tr>\n",
       "      <th>3</th>\n",
       "      <td>retweet i am not racist and i am not sexist i ...</td>\n",
       "      <td>1</td>\n",
       "      <td>17</td>\n",
       "      <td>62</td>\n",
       "      <td>3.6471</td>\n",
       "    </tr>\n",
       "    <tr>\n",
       "      <th>4</th>\n",
       "      <td>just imagine if the two million spent on the s...</td>\n",
       "      <td>1</td>\n",
       "      <td>18</td>\n",
       "      <td>88</td>\n",
       "      <td>4.8889</td>\n",
       "    </tr>\n",
       "  </tbody>\n",
       "</table>\n",
       "</div>"
      ],
      "text/plain": [
       "                                             Content  Label  num_words  \\\n",
       "0  retweet to the rejects who constantly call my ...      1         24   \n",
       "1  i purpose that whatever attack everyone who ca...      1         16   \n",
       "2  are you fucking kidding me you deserve to fuck...      1         10   \n",
       "3  retweet i am not racist and i am not sexist i ...      1         17   \n",
       "4  just imagine if the two million spent on the s...      1         18   \n",
       "\n",
       "   num_characters  avg_word_len  \n",
       "0              99        4.1250  \n",
       "1              88        5.5000  \n",
       "2              44        4.4000  \n",
       "3              62        3.6471  \n",
       "4              88        4.8889  "
      ]
     },
     "execution_count": 8,
     "metadata": {},
     "output_type": "execute_result"
    }
   ],
   "source": [
    "df.head()"
   ]
  },
  {
   "cell_type": "code",
   "execution_count": 9,
   "id": "c37f3c86",
   "metadata": {},
   "outputs": [],
   "source": [
    "df = df.sample(frac=1, random_state=42).reset_index(drop=True)\n",
    "train_data, test_data = train_test_split(df, test_size=0.2, random_state=42)"
   ]
  },
  {
   "cell_type": "code",
   "execution_count": 10,
   "id": "b9d378c1",
   "metadata": {},
   "outputs": [
    {
     "data": {
      "text/plain": [
       "(96000, 5)"
      ]
     },
     "execution_count": 10,
     "metadata": {},
     "output_type": "execute_result"
    }
   ],
   "source": [
    "train_data.shape"
   ]
  },
  {
   "cell_type": "code",
   "execution_count": 12,
   "id": "89878271",
   "metadata": {},
   "outputs": [
    {
     "data": {
      "text/html": [
       "<div>\n",
       "<style scoped>\n",
       "    .dataframe tbody tr th:only-of-type {\n",
       "        vertical-align: middle;\n",
       "    }\n",
       "\n",
       "    .dataframe tbody tr th {\n",
       "        vertical-align: top;\n",
       "    }\n",
       "\n",
       "    .dataframe thead th {\n",
       "        text-align: right;\n",
       "    }\n",
       "</style>\n",
       "<table border=\"1\" class=\"dataframe\">\n",
       "  <thead>\n",
       "    <tr style=\"text-align: right;\">\n",
       "      <th></th>\n",
       "      <th>Content</th>\n",
       "      <th>Label</th>\n",
       "      <th>num_words</th>\n",
       "      <th>num_characters</th>\n",
       "      <th>avg_word_len</th>\n",
       "    </tr>\n",
       "  </thead>\n",
       "  <tbody>\n",
       "    <tr>\n",
       "      <th>0</th>\n",
       "      <td>notability of magnus howie a tag has been plac...</td>\n",
       "      <td>0</td>\n",
       "      <td>237</td>\n",
       "      <td>1098</td>\n",
       "      <td>4.6329</td>\n",
       "    </tr>\n",
       "    <tr>\n",
       "      <th>1</th>\n",
       "      <td>big plans</td>\n",
       "      <td>0</td>\n",
       "      <td>2</td>\n",
       "      <td>8</td>\n",
       "      <td>4.0000</td>\n",
       "    </tr>\n",
       "    <tr>\n",
       "      <th>2</th>\n",
       "      <td>najbolje je no idea jean no idea drug ako see ...</td>\n",
       "      <td>1</td>\n",
       "      <td>16</td>\n",
       "      <td>65</td>\n",
       "      <td>4.0625</td>\n",
       "    </tr>\n",
       "  </tbody>\n",
       "</table>\n",
       "</div>"
      ],
      "text/plain": [
       "                                             Content  Label  num_words  \\\n",
       "0  notability of magnus howie a tag has been plac...      0        237   \n",
       "1                                          big plans      0          2   \n",
       "2  najbolje je no idea jean no idea drug ako see ...      1         16   \n",
       "\n",
       "   num_characters  avg_word_len  \n",
       "0            1098        4.6329  \n",
       "1               8        4.0000  \n",
       "2              65        4.0625  "
      ]
     },
     "execution_count": 12,
     "metadata": {},
     "output_type": "execute_result"
    }
   ],
   "source": [
    "df.head(3)"
   ]
  },
  {
   "cell_type": "code",
   "execution_count": 13,
   "id": "e84191c5",
   "metadata": {},
   "outputs": [],
   "source": [
    "schema = DataDefinition(\n",
    "    text_columns=[\"Content\"],                          \n",
    "    numerical_columns=[\"num_words\", \"num_characters\", \"avg_word_len\"],\n",
    ")"
   ]
  },
  {
   "cell_type": "code",
   "execution_count": 14,
   "id": "11ed0f45",
   "metadata": {},
   "outputs": [],
   "source": [
    "train_ds = Dataset.from_pandas(train_data, data_definition=schema)\n",
    "test_ds  = Dataset.from_pandas(test_data,  data_definition=schema)"
   ]
  },
  {
   "cell_type": "code",
   "execution_count": 15,
   "id": "d2d93662",
   "metadata": {},
   "outputs": [],
   "source": [
    "# Create the report using the preset\n",
    "report = Report(metrics=[DataDriftPreset()])\n",
    "\n",
    "# Run drift detection between train and test\n",
    "result = report.run(reference_data=train_ds, current_data=test_ds)"
   ]
  },
  {
   "cell_type": "code",
   "execution_count": 16,
   "id": "fa6eb2c0",
   "metadata": {},
   "outputs": [],
   "source": [
    "result.save_html(\"artifacts/data_drift.html\")\n",
    "\n",
    "result.save_json(\"artifacts/data_drift.json\")"
   ]
  }
 ],
 "metadata": {
  "kernelspec": {
   "display_name": "ml-dl.env",
   "language": "python",
   "name": "python3"
  },
  "language_info": {
   "codemirror_mode": {
    "name": "ipython",
    "version": 3
   },
   "file_extension": ".py",
   "mimetype": "text/x-python",
   "name": "python",
   "nbconvert_exporter": "python",
   "pygments_lexer": "ipython3",
   "version": "3.11.5"
  }
 },
 "nbformat": 4,
 "nbformat_minor": 5
}
