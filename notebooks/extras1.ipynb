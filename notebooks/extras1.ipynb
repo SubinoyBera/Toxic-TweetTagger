{
 "cells": [
  {
   "cell_type": "code",
   "execution_count": 1,
   "id": "bca96f57",
   "metadata": {},
   "outputs": [
    {
     "name": "stdout",
     "output_type": "stream",
     "text": [
      "d:\\My Projects\\Toxic Tagger\n"
     ]
    }
   ],
   "source": [
    "%cd .."
   ]
  },
  {
   "cell_type": "code",
   "execution_count": 13,
   "id": "aacc7bd7",
   "metadata": {},
   "outputs": [
    {
     "data": {
      "text/html": [
       "<pre style=\"white-space:pre;overflow-x:auto;line-height:normal;font-family:Menlo,'DejaVu Sans Mono',consolas,'Courier New',monospace\">Accessing as SubinoyBera\n",
       "</pre>\n"
      ],
      "text/plain": [
       "Accessing as SubinoyBera\n"
      ]
     },
     "metadata": {},
     "output_type": "display_data"
    },
    {
     "data": {
      "text/html": [
       "<pre style=\"white-space:pre;overflow-x:auto;line-height:normal;font-family:Menlo,'DejaVu Sans Mono',consolas,'Courier New',monospace\">Initialized MLflow to track repo <span style=\"color: #008000; text-decoration-color: #008000\">\"SubinoyBera/Toxic-TweetTagger\"</span>\n",
       "</pre>\n"
      ],
      "text/plain": [
       "Initialized MLflow to track repo \u001b[32m\"SubinoyBera/Toxic-TweetTagger\"\u001b[0m\n"
      ]
     },
     "metadata": {},
     "output_type": "display_data"
    },
    {
     "data": {
      "text/html": [
       "<pre style=\"white-space:pre;overflow-x:auto;line-height:normal;font-family:Menlo,'DejaVu Sans Mono',consolas,'Courier New',monospace\">Repository SubinoyBera/Toxic-TweetTagger initialized!\n",
       "</pre>\n"
      ],
      "text/plain": [
       "Repository SubinoyBera/Toxic-TweetTagger initialized!\n"
      ]
     },
     "metadata": {},
     "output_type": "display_data"
    }
   ],
   "source": [
    "import os\n",
    "import mlflow\n",
    "import dagshub\n",
    "from dotenv import load_dotenv\n",
    "load_dotenv()\n",
    "\n",
    "repo_owner = os.getenv(\"OWNER\")\n",
    "repo_name = os.getenv(\"REPO\")\n",
    "uri = os.getenv(\"MLFLOW_URI\")\n",
    "\n",
    "mlflow.set_tracking_uri(uri)\n",
    "\n",
    "if repo_owner is None:\n",
    "\traise EnvironmentError(\"Missing dagshub logging environment credentials.\")\n",
    "dagshub.init(repo_owner=repo_owner, repo_name=repo_name, mlflow=True)"
   ]
  },
  {
   "cell_type": "code",
   "execution_count": 4,
   "id": "edc85ad0",
   "metadata": {},
   "outputs": [],
   "source": [
    "import pandas as pd"
   ]
  },
  {
   "cell_type": "code",
   "execution_count": 14,
   "id": "883c8433",
   "metadata": {},
   "outputs": [
    {
     "name": "stderr",
     "output_type": "stream",
     "text": [
      "c:\\Users\\subin\\.conda\\envs\\ml-dl.env\\Lib\\site-packages\\tqdm\\auto.py:21: TqdmWarning: IProgress not found. Please update jupyter and ipywidgets. See https://ipywidgets.readthedocs.io/en/stable/user_install.html\n",
      "  from .autonotebook import tqdm as notebook_tqdm\n",
      "Downloading artifacts: 100%|██████████| 7/7 [00:21<00:00,  3.01s/it]\n"
     ]
    }
   ],
   "source": [
    "model_name = \"ToxicTagger-Models\"\n",
    "stage = \"Production\"\n",
    "model_uri = f\"models:/{model_name}/{stage}\"\n",
    "new_model = mlflow.pyfunc.load_model(model_uri)"
   ]
  },
  {
   "cell_type": "code",
   "execution_count": 18,
   "id": "314cdccb",
   "metadata": {},
   "outputs": [],
   "source": [
    "text = [\"i love to fuck u very much sweetie\"]\n",
    "df = pd.DataFrame(text, columns=[\"comments\"])\n",
    "\n",
    "response = new_model.predict(df)"
   ]
  },
  {
   "cell_type": "code",
   "execution_count": 19,
   "id": "e3845b41",
   "metadata": {},
   "outputs": [],
   "source": [
    "label = int(response[\"class_label\"][0])"
   ]
  },
  {
   "cell_type": "code",
   "execution_count": 20,
   "id": "d332aff2",
   "metadata": {},
   "outputs": [
    {
     "data": {
      "text/plain": [
       "1"
      ]
     },
     "execution_count": 20,
     "metadata": {},
     "output_type": "execute_result"
    }
   ],
   "source": [
    "label"
   ]
  },
  {
   "cell_type": "code",
   "execution_count": 2,
   "id": "0452df6c",
   "metadata": {},
   "outputs": [],
   "source": [
    "import joblib\n",
    "with open(\"serve_api/model/python_model.pkl\", \"rb\") as f:\n",
    "    model = joblib.load(f)"
   ]
  },
  {
   "cell_type": "code",
   "execution_count": null,
   "id": "b39a33fd",
   "metadata": {},
   "outputs": [
    {
     "data": {
      "text/plain": [
       "'XGBClassifier'"
      ]
     },
     "execution_count": 10,
     "metadata": {},
     "output_type": "execute_result"
    }
   ],
   "source": [
    "type(model.model).__name__"
   ]
  },
  {
   "cell_type": "code",
   "execution_count": 11,
   "id": "e8ba1058",
   "metadata": {},
   "outputs": [
    {
     "data": {
      "text/plain": [
       "'TfidfVectorizer'"
      ]
     },
     "execution_count": 11,
     "metadata": {},
     "output_type": "execute_result"
    }
   ],
   "source": [
    "type(model.vectorizer).__name__"
   ]
  },
  {
   "cell_type": "code",
   "execution_count": null,
   "id": "2335ce39",
   "metadata": {},
   "outputs": [],
   "source": [
    "import pandas as pd\n",
    "text = [\"i love god very much\"]\n",
    "df = pd.DataFrame(text, columns=[\"comments\"])\n",
    "\n",
    "response = model.predict(context=None, model_input=df)"
   ]
  },
  {
   "cell_type": "code",
   "execution_count": 12,
   "id": "c896e73d",
   "metadata": {},
   "outputs": [
    {
     "data": {
      "text/plain": [
       "0"
      ]
     },
     "execution_count": 12,
     "metadata": {},
     "output_type": "execute_result"
    }
   ],
   "source": [
    "label = int(response[\"class_label\"][0])\n",
    "label"
   ]
  },
  {
   "cell_type": "markdown",
   "id": "bfa57ff6",
   "metadata": {},
   "source": [
    "### Testing MongoDB Connection"
   ]
  },
  {
   "cell_type": "code",
   "execution_count": 1,
   "id": "8f3e94f1",
   "metadata": {},
   "outputs": [
    {
     "data": {
      "text/plain": [
       "True"
      ]
     },
     "execution_count": 1,
     "metadata": {},
     "output_type": "execute_result"
    }
   ],
   "source": [
    "import pymongo\n",
    "import os\n",
    "from dotenv import load_dotenv\n",
    "load_dotenv()"
   ]
  },
  {
   "cell_type": "code",
   "execution_count": 2,
   "id": "05702161",
   "metadata": {},
   "outputs": [],
   "source": [
    "DB_NAME = \"Toxic_Tweets\"\n",
    "COLLECTION_NAME = \"toxic_tweet_data\"\n",
    "CONNECTION_URL = os.getenv(\"MONGO_CONNECTION_URL\")\n",
    "MONGO_USERNAME = os.getenv(\"MONGO_USERNAME\")\n",
    "MONGO_PASSWORD = os.getenv(\"MONGO_PASSWORD\")\n",
    "MONGO_URL = os.getenv(\"MONGO_URL\")"
   ]
  },
  {
   "cell_type": "code",
   "execution_count": 24,
   "id": "764bab70",
   "metadata": {},
   "outputs": [
    {
     "name": "stdout",
     "output_type": "stream",
     "text": [
      "{'version': '8.0.12', 'gitVersion': 'b60fc6875b5fb4b63cc0dbbd8dda0d6d6277921a', 'modules': ['enterprise'], 'allocator': 'tcmalloc-google', 'javascriptEngine': 'mozjs', 'sysInfo': 'deprecated', 'versionArray': [8, 0, 12, 0], 'bits': 64, 'debug': False, 'maxBsonObjectSize': 16777216, 'storageEngines': ['devnull', 'inMemory', 'queryable_wt', 'wiredTiger'], 'ok': 1.0, '$clusterTime': {'clusterTime': Timestamp(1754987630, 40), 'signature': {'hash': b\"\\x13\\x8b\\x072Qx,\\xf5\\xe1\\xe5{\\xebk\\xe1o,\\x99\\xa6'\\xac\", 'keyId': 7479309989748670466}}, 'operationTime': Timestamp(1754987630, 40)}\n"
     ]
    }
   ],
   "source": [
    "from urllib.parse import quote_plus\n",
    "import pymongo\n",
    "import certifi\n",
    "\n",
    "ca = certifi.where()\n",
    "\n",
    "username = quote_plus(str(MONGO_USERNAME).strip())\n",
    "password = quote_plus(str(MONGO_PASSWORD).strip())\n",
    "\n",
    "CONNECTION_URL = f\"mongodb+srv://{username}:{password}@{MONGO_URL}\"\n",
    "\n",
    "# Create SSL context forcing TLS 1.2\n",
    "client = pymongo.MongoClient(CONNECTION_URL, tlsCAFile=ca)\n",
    "\n",
    "print(client.server_info())\n",
    "\n",
    "db = client[DB_NAME]\n",
    "collection = db[COLLECTION_NAME]\n",
    "\n",
    "df = pd.DataFrame(list(collection.find()))"
   ]
  },
  {
   "cell_type": "code",
   "execution_count": 25,
   "id": "6054a39e",
   "metadata": {},
   "outputs": [
    {
     "data": {
      "text/html": [
       "<div>\n",
       "<style scoped>\n",
       "    .dataframe tbody tr th:only-of-type {\n",
       "        vertical-align: middle;\n",
       "    }\n",
       "\n",
       "    .dataframe tbody tr th {\n",
       "        vertical-align: top;\n",
       "    }\n",
       "\n",
       "    .dataframe thead th {\n",
       "        text-align: right;\n",
       "    }\n",
       "</style>\n",
       "<table border=\"1\" class=\"dataframe\">\n",
       "  <thead>\n",
       "    <tr style=\"text-align: right;\">\n",
       "      <th></th>\n",
       "      <th>_id</th>\n",
       "      <th>Content</th>\n",
       "      <th>Label</th>\n",
       "    </tr>\n",
       "  </thead>\n",
       "  <tbody>\n",
       "    <tr>\n",
       "      <th>0</th>\n",
       "      <td>68982ace71f1b2ad73f4d654</td>\n",
       "      <td>retweet to the rejects who constantly call my ...</td>\n",
       "      <td>1</td>\n",
       "    </tr>\n",
       "    <tr>\n",
       "      <th>1</th>\n",
       "      <td>68982ace71f1b2ad73f4d655</td>\n",
       "      <td>i purpose that whatever attack everyone who ca...</td>\n",
       "      <td>1</td>\n",
       "    </tr>\n",
       "    <tr>\n",
       "      <th>2</th>\n",
       "      <td>68982ace71f1b2ad73f4d656</td>\n",
       "      <td>are you fucking kidding me you deserve to fuck...</td>\n",
       "      <td>1</td>\n",
       "    </tr>\n",
       "    <tr>\n",
       "      <th>3</th>\n",
       "      <td>68982ace71f1b2ad73f4d657</td>\n",
       "      <td>retweet i am not racist and i am not sexist i ...</td>\n",
       "      <td>1</td>\n",
       "    </tr>\n",
       "    <tr>\n",
       "      <th>4</th>\n",
       "      <td>68982ace71f1b2ad73f4d658</td>\n",
       "      <td>just imagine if the two million spent on the s...</td>\n",
       "      <td>1</td>\n",
       "    </tr>\n",
       "  </tbody>\n",
       "</table>\n",
       "</div>"
      ],
      "text/plain": [
       "                        _id  \\\n",
       "0  68982ace71f1b2ad73f4d654   \n",
       "1  68982ace71f1b2ad73f4d655   \n",
       "2  68982ace71f1b2ad73f4d656   \n",
       "3  68982ace71f1b2ad73f4d657   \n",
       "4  68982ace71f1b2ad73f4d658   \n",
       "\n",
       "                                             Content  Label  \n",
       "0  retweet to the rejects who constantly call my ...      1  \n",
       "1  i purpose that whatever attack everyone who ca...      1  \n",
       "2  are you fucking kidding me you deserve to fuck...      1  \n",
       "3  retweet i am not racist and i am not sexist i ...      1  \n",
       "4  just imagine if the two million spent on the s...      1  "
      ]
     },
     "execution_count": 25,
     "metadata": {},
     "output_type": "execute_result"
    }
   ],
   "source": [
    "df.head()"
   ]
  },
  {
   "cell_type": "code",
   "execution_count": 26,
   "id": "981cecc2",
   "metadata": {},
   "outputs": [
    {
     "name": "stdout",
     "output_type": "stream",
     "text": [
      "<class 'pandas.core.frame.DataFrame'>\n",
      "RangeIndex: 120000 entries, 0 to 119999\n",
      "Data columns (total 3 columns):\n",
      " #   Column   Non-Null Count   Dtype \n",
      "---  ------   --------------   ----- \n",
      " 0   _id      120000 non-null  object\n",
      " 1   Content  120000 non-null  object\n",
      " 2   Label    120000 non-null  int64 \n",
      "dtypes: int64(1), object(2)\n",
      "memory usage: 2.7+ MB\n"
     ]
    }
   ],
   "source": [
    "df.info()"
   ]
  }
 ],
 "metadata": {
  "kernelspec": {
   "display_name": "ml-dl.env",
   "language": "python",
   "name": "python3"
  },
  "language_info": {
   "codemirror_mode": {
    "name": "ipython",
    "version": 3
   },
   "file_extension": ".py",
   "mimetype": "text/x-python",
   "name": "python",
   "nbconvert_exporter": "python",
   "pygments_lexer": "ipython3",
   "version": "3.11.5"
  }
 },
 "nbformat": 4,
 "nbformat_minor": 5
}
